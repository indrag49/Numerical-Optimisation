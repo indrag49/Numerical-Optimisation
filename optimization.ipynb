{
 "cells": [
  {
   "cell_type": "markdown",
   "metadata": {},
   "source": [
    "### Python implementation of the algorithms mentioned in the book \"Numerical Optimisation\" by Nocedal and Wright, Springer"
   ]
  },
  {
   "cell_type": "code",
   "execution_count": 1,
   "metadata": {},
   "outputs": [],
   "source": [
    "import numpy as np\n",
    "import random"
   ]
  },
  {
   "cell_type": "markdown",
   "metadata": {},
   "source": [
    "#### Algorithm 3.1: Backtracking Line Search"
   ]
  },
  {
   "cell_type": "markdown",
   "metadata": {},
   "source": [
    "##### Used to analyse the Rosenbrock function, $f(x)$ = $100(x_2-x_1^2)^2+(1-x_1)^2$"
   ]
  },
  {
   "cell_type": "code",
   "execution_count": 9,
   "metadata": {},
   "outputs": [
    {
     "name": "stdout",
     "output_type": "stream",
     "text": [
      "B= [[1328.  480.]\n",
      " [ 480.  200.]]\n",
      "delta_f= [-215.6  -88. ]\n",
      "p= [0.025 0.38 ]\n",
      "x1= [-1.175  1.38 ]\n",
      "L= -0.0038829999999999963\n",
      "alpha= 0.1\n",
      "B= [[1104.75  470.  ]\n",
      " [ 470.    200.  ]]\n",
      "delta_f= [-4.64375 -0.125  ]\n",
      "p= [ 17.4      -40.889375]\n",
      "x1= [ 0.565     -2.7089375]\n",
      "L= -0.0007569007812492967\n",
      "alpha= 0.010000000000000002\n"
     ]
    },
    {
     "data": {
      "text/plain": [
       "0.010000000000000002"
      ]
     },
     "execution_count": 9,
     "metadata": {},
     "output_type": "execute_result"
    }
   ],
   "source": [
    "x=np.array([-1.2, 1])\n",
    "alpha=1\n",
    "c=0.0001\n",
    "rho=0.1\n",
    "\n",
    "def f(x): return 100*(x[1] - x[0]**2)**2 + (1 - x[0])**2\n",
    "\n",
    "while True:\n",
    "    B=np.array(([-400*(x[1]-3*x[0]**2), -400*x[0]], [-400*x[0], 200]))\n",
    "    \n",
    "    #B=np.eye(2)\n",
    "    \n",
    "    delta_f=np.array([-400*(x[0]*x[1]-x[0]**3)-2*(1-x[0]), 200*(x[1]-x[0]**2)])\n",
    "    print(\"B=\",B)\n",
    "    print(\"delta_f=\",delta_f)\n",
    "    p=-(np.linalg.inv(B).dot(delta_f))\n",
    "    print(\"p=\",p)\n",
    "    \n",
    "    x1=x+alpha*p\n",
    "    L=c*alpha*((delta_f.T).dot(p))\n",
    "    print(\"x1=\", x1)\n",
    "    print(\"L=\", L)\n",
    "    \n",
    "    alpha=rho*alpha\n",
    "    print(\"alpha=\", alpha)\n",
    "    \n",
    "    if f(x1)>f(x)+L: break\n",
    "    \n",
    "    x=x1\n",
    "alpha"
   ]
  },
  {
   "cell_type": "markdown",
   "metadata": {},
   "source": [
    "#### Algorithm 3.2: Line Search ALgorithm"
   ]
  },
  {
   "cell_type": "code",
   "execution_count": 68,
   "metadata": {},
   "outputs": [
    {
     "name": "stdout",
     "output_type": "stream",
     "text": [
      "1\n",
      "2\n"
     ]
    },
    {
     "data": {
      "text/plain": [
       "0.487412157195802"
      ]
     },
     "execution_count": 68,
     "metadata": {},
     "output_type": "execute_result"
    }
   ],
   "source": [
    "def LSA(alphaMax, x):\n",
    "    alpha0=1\n",
    "    i=1\n",
    "    alpha1=random.random()\n",
    "    c1=10**(-4)\n",
    "    c2=0.9\n",
    "\n",
    "    f0=f(x)\n",
    "    g0=g(x)\n",
    "    H0=H(x)\n",
    "    B=np.copy(H0)\n",
    "\n",
    "    alphaold=alpha0\n",
    "    alphanew=alpha1\n",
    "    fp=np.copy(f0)\n",
    "    gp=np.copy(g0)\n",
    "    \n",
    "    while True:\n",
    "        P=-(np.linalg.inv(B)).dot(gp)\n",
    "        print(i)\n",
    "        x1=x+alphanew*P\n",
    "        xnew=np.copy(x1)\n",
    "        fx=f(x1)\n",
    "        gx=g(x1)\n",
    "        Hx=H(x1)\n",
    "\n",
    "        if (fx>f0+c1*alphanew*((g0.T).dot(P))) or ((i>1) and fx>=fp): return zoom(alphaold, alphanew, x, P)\n",
    "        if abs((gx.T).dot(P))<=-c2*((g0.T).dot(P)): return alphanew\n",
    "        if (gx.T).dot(P)>=0: return zoom(alphanew, alphaold, x, P)\n",
    "        \n",
    "        alphaold=alphanew\n",
    "        fp=np.copy(fx)\n",
    "        gp=np.copy(gx)\n",
    "        Hp=np.copy(Hx)\n",
    "        B=np.copy(Hp)\n",
    "        \n",
    "        alphanew+=random.uniform(alphanew, alphaMax)\n",
    "        i+=1\n",
    "\n",
    "LSA(1.3, np.copy([-3.5, -122.23]))"
   ]
  },
  {
   "cell_type": "markdown",
   "metadata": {},
   "source": [
    "#### Algorithm 3.3: zoom"
   ]
  },
  {
   "cell_type": "code",
   "execution_count": 30,
   "metadata": {},
   "outputs": [
    {
     "data": {
      "text/plain": [
       "0.5425"
      ]
     },
     "execution_count": 30,
     "metadata": {},
     "output_type": "execute_result"
    }
   ],
   "source": [
    "def f(x): return 100*(x[1]-x[0]**2)**2+(1-x[0])**2\n",
    "def g(x): return np.array([-400*(x[0]*x[1]-x[0]**3)-2*(1-x[0]), 200*(x[1]-x[0]**2)])\n",
    "def H(x): return np.array(([-400*(x[1]-3*x[0]**2)+2, -400*x[0]], [-400*x[0], 200]))\n",
    "\n",
    "def zoom(alpha1, alpha2, x, P):\n",
    "    c1=10**(-4)\n",
    "    c2=0.9\n",
    "    f0=f(x)\n",
    "    g0=g(x)\n",
    "    \n",
    "    while True:\n",
    "        alphaj=(alpha1+alpha2)/2\n",
    "        x1=x+alphaj*P\n",
    "        fx=f(x1)\n",
    "        gx=g(x1)\n",
    "        x2=x+alpha1*P\n",
    "        fl=f(x2)\n",
    "        gl=g(x2)\n",
    "        if fx>f0+c1*alphaj*((g0.T).dot(P)) or fx>=fl: alpha2=alphaj\n",
    "        else:\n",
    "            if abs((gx.T).dot(P))<=-c2*((g0.T).dot(P)): return alphaj\n",
    "            if ((gx.T).dot(P))*(alpha2-alpha1)>=0:alpha2=aplha1\n",
    "            alpha1=alpha2\n",
    "x=np.array([1.2, 1.2])\n",
    "zoom(0.085, 1.0, x, -np.linalg.inv(H(x)).dot(g(x)))"
   ]
  },
  {
   "cell_type": "markdown",
   "metadata": {},
   "source": [
    "#### Algorithm 4.2: Cauchy Point Algorithm"
   ]
  },
  {
   "cell_type": "code",
   "execution_count": 5,
   "metadata": {},
   "outputs": [
    {
     "data": {
      "text/plain": [
       "array([0.99866542, 0.99733061])"
      ]
     },
     "execution_count": 5,
     "metadata": {},
     "output_type": "execute_result"
    }
   ],
   "source": [
    "def f(x): return 100*(x[1]-x[0]**2)**2+(1-x[0])**2\n",
    "def g(x): return np.array([-400*(x[0]*x[1]-x[0]**3)-2*(1-x[0]), 200*(x[1]-x[0]**2)])\n",
    "def H(x): return np.array(([-400*(x[1]-3*x[0]**2)+2, -400*x[0]], [-400*x[0], 200]))\n",
    "def m(x, P): \n",
    "    B=H(x)\n",
    "    p1=B.dot(P)\n",
    "    return f(x)+(g(x).T).dot(P)+0.5*(P.T).dot(p1)\n",
    "\n",
    "def CPA(x, Delta_max):\n",
    "\n",
    "    delta=random.uniform(0, Delta_max)\n",
    "    eta=random.uniform(0, 1/4)\n",
    "    k=0\n",
    "    while k<=5000:\n",
    "        #print(\"k=\", k)\n",
    "        #print(\"x=\", x)\n",
    "        #print(\"delta=\", delta)\n",
    "        B=H(x)\n",
    "        G=g(x)\n",
    "        p1=B.dot(G)\n",
    "        pd=(G.T).dot(p1)\n",
    "        t=1 if pd<=0 else min(np.linalg.norm(G)**3/(delta*pd), 1)\n",
    "        P=-(t*delta/np.linalg.norm(G))*G\n",
    "        #print(\"P=\", P)\n",
    "        \n",
    "        rho=(f(x)-f(x+P))/(m(x, np.zeros(2))-m(x, P))\n",
    "        #print(\"rho=\", rho)\n",
    "        #print(P)\n",
    "        if rho<1/4:\n",
    "            delta=np.linalg.norm(P)/4\n",
    "        else:\n",
    "            if rho>3/4 and np.linalg.norm(P)==delta: delta=min(2*delta, Delta_max)\n",
    "            else: delta=delta\n",
    "        \n",
    "        if rho>eta: x+=P\n",
    "        else:x=x\n",
    "        k+=1\n",
    "    return x\n",
    "        \n",
    "CPA(np.array([-30.087, 0.563]), 2)"
   ]
  },
  {
   "cell_type": "markdown",
   "metadata": {},
   "source": [
    "#### Algorithm 4.3: CG-Steihaug Algorithm"
   ]
  },
  {
   "cell_type": "markdown",
   "metadata": {},
   "source": [
    "##### The trust region subproblem is as follows:\n",
    "\\begin{equation} \n",
    "min\\space \\space m(P)=f+g^TP+\\frac{1}{2}P^TBP\n",
    "\\end{equation}\n",
    "##### subject to:\n",
    "\\begin{equation} ||P||=\\Delta \\end{equation}\n",
    "\n",
    "##### So,\n",
    "\\begin{equation}\n",
    "\\sqrt{(P_j^0+\\tau d_j^0)^2 + (P_j^1+\\tau d_j^1)^2+ ... +(P_j^n+\\tau d_j^n)^2}=\\Delta \\\\\n",
    "\\Rightarrow (P_j^0+\\tau d_j^0)^2 + (P_j^1+\\tau d_j^1)^2+ ... +(P_j^n+\\tau d_j^n)^2=\\Delta^2\\\\\n",
    "\\Rightarrow (P_j^0)^2+2P_j^0\\tau d_j^0+(\\tau d_j^0)^2+(P_j^1)^2+2P_j^1\\tau d_j^1+(\\tau d_j^1)^2+...+(P_j^n)^2+2P_j^n\\tau d_j^n+(\\tau d_j^n)^2=\\Delta^2\\\\\n",
    "\\Rightarrow \\tau^2 ((d_j^0)^2+(d_j^1)^2+...+(d_j^n)^2)+2\\tau (P_j^0d_j^0+P_j^1d_j^1+...+P_j^nd_j^n)+(P_j^0)^2+(P_j^1)^2+...+(P_j^n)^2-\\Delta^2=0\\\\\n",
    "\\Rightarrow \\tau^2 ||d_j||^2+2\\tau P_j^Td_j+||P_j||^2-\\Delta^2=0\\\\\n",
    "\\Rightarrow \\tau=\\frac{-P_j^Td_j \\frac{+}{} \\sqrt{(P_j^Td_j)^2-||d_j||^2(||P_j||^2-\\Delta^2)}}{||d_j||^2}\n",
    "\\end{equation}"
   ]
  },
  {
   "cell_type": "code",
   "execution_count": 3,
   "metadata": {},
   "outputs": [
    {
     "name": "stdout",
     "output_type": "stream",
     "text": [
      "P= [-0.46233356  0.19255627]\n",
      "1\n",
      "P= [-0.77149824 -0.33422452]\n",
      "2\n",
      "P= [-0.91929185 -0.49909225]\n",
      "3\n",
      "P= [-1.0240319  -0.59281691]\n",
      "4\n",
      "P= [-1.10814938 -0.65741695]\n",
      "5\n",
      "P= [-1.17985734 -0.70631727]\n",
      "6\n",
      "P= [-1.24313913 -0.74543611]\n",
      "7\n"
     ]
    },
    {
     "data": {
      "text/plain": [
       "array([-1.28705198, -0.7703877 ])"
      ]
     },
     "execution_count": 3,
     "metadata": {},
     "output_type": "execute_result"
    }
   ],
   "source": [
    "def f(x): return 100*(x[1]-x[0]**2)**2+(1-x[0])**2\n",
    "def g(x): return np.array([-400*(x[0]*x[1]-x[0]**3)-2*(1-x[0]), 200*(x[1]-x[0]**2)])\n",
    "def H(x): return np.array(([-400*(x[1]-3*x[0]**2)+2, -400*x[0]], [-400*x[0], 200]))\n",
    "\n",
    "def CGS(Delta, x):\n",
    "    epsilon=10**(-6)\n",
    "    r=g(x)\n",
    "    P=np.zeros(len(r))\n",
    "    r0=np.copy(r)\n",
    "    d=-np.copy(r)\n",
    "    B=H(x)\n",
    "    j=0\n",
    "    if np.linalg.norm(r0)<epsilon: return P\n",
    "    \n",
    "    while True:\n",
    "        p1=B.dot(d)\n",
    "        alpha=(d.T).dot(p1)\n",
    "        if alpha<=0:\n",
    "            A=-(P.T).dot(d)\n",
    "            C=((P.T).dot(d))**2\n",
    "            D=np.linalg.norm(d)**2\n",
    "            E=np.linalg.norm(P)**2-Delta**2\n",
    "            alpha=(A+np.sqrt(C-D*E))/D\n",
    "\n",
    "            return P + alpha*d\n",
    "        else:\n",
    "            alpha=((r.T).dot(r))/alpha\n",
    "            P1=np.copy(P)\n",
    "            P+=alpha*d\n",
    "        \n",
    "            if np.linalg.norm(P)>=Delta:\n",
    "                A=-(P1.T).dot(d)\n",
    "                C=((P1.T).dot(d))**2\n",
    "                D=np.linalg.norm(d)**2\n",
    "                E=np.linalg.norm(P1)**2-Delta**2\n",
    "                alpha=(A+np.sqrt(C-D*E))/D\n",
    "\n",
    "                return P1 + alpha*d\n",
    "        \n",
    "        r1=np.copy(r)\n",
    "        r+=alpha*(B.dot(d))\n",
    "        \n",
    "        if np.linalg.norm(r)<epsilon*np.linalg.norm(r0): return P\n",
    "        \n",
    "        beta=((r.T).dot(r))/((r1.T).dot(r1))\n",
    "        d1=np.copy(d)\n",
    "        d=r+beta*d1\n",
    "    \n",
    "        print(\"P=\",P)\n",
    "        \n",
    "        j+=1\n",
    "        print(j)\n",
    "        \n",
    "CGS(1.5, np.array([1.2, -0.5]))\n",
    "    "
   ]
  },
  {
   "cell_type": "markdown",
   "metadata": {},
   "source": [
    "#### Dogleg implementation"
   ]
  },
  {
   "cell_type": "code",
   "execution_count": 4,
   "metadata": {},
   "outputs": [
    {
     "name": "stderr",
     "output_type": "stream",
     "text": [
      "F:\\Anaconda3\\lib\\site-packages\\ipykernel_launcher.py:32: RuntimeWarning: invalid value encountered in true_divide\n",
      "F:\\Anaconda3\\lib\\site-packages\\ipykernel_launcher.py:37: RuntimeWarning: invalid value encountered in double_scalars\n"
     ]
    },
    {
     "data": {
      "text/plain": [
       "array([1., 1.])"
      ]
     },
     "execution_count": 4,
     "metadata": {},
     "output_type": "execute_result"
    }
   ],
   "source": [
    "def f(x): return 100*(x[1]-x[0]**2)**2+(1-x[0])**2\n",
    "def g(x): return np.array([-400*(x[0]*x[1]-x[0]**3)-2*(1-x[0]), 200*(x[1]-x[0]**2)])\n",
    "def H(x): return np.array(([-400*(x[1]-3*x[0]**2)+2, -400*x[0]], [-400*x[0], 200]))\n",
    "def m(x, P): \n",
    "    B=H(x)\n",
    "    p1=B.dot(P)\n",
    "    return f(x)+(g(x).T).dot(P)+0.5*(P.T).dot(p1)\n",
    "\n",
    "def dogleg(Delta, Pg, Pn):\n",
    "    if Delta<=np.linalg.norm(Pg): return (Delta/np.linalg.norm(Pg))*Pg\n",
    "    elif Delta>=np.linalg.norm(Pn): return Pn\n",
    "    else:\n",
    "        A=np.linalg.norm(Pg)**2\n",
    "        F=np.linalg.norm(Pn)**2\n",
    "        C=np.linalg.norm(Pg-Pn)**2\n",
    "        D=(A+F-C)/2\n",
    "        E=(F-Delta**2)/(F-D+np.sqrt(D**2-A*F+Delta**2*C))\n",
    "        return E*Pg+(1-E)*Pn\n",
    "\n",
    "def DI(x, Delta_max):\n",
    "\n",
    "    delta=random.uniform(0, Delta_max)\n",
    "    eta=random.uniform(0, 1/4)\n",
    "    k=0\n",
    "    while k<=5000:\n",
    "        #print(\"k=\", k)\n",
    "        #print(\"x=\", x)\n",
    "        #print(\"delta=\", delta)\n",
    "        B=H(x)\n",
    "        G=g(x)\n",
    "        p1=B.dot(G)\n",
    "        Pg=-G*((G.T).dot(G))/((G.T).dot(p1))\n",
    "        Pn=-np.linalg.inv(B).dot(G)\n",
    "        P=dogleg(delta, Pg, Pn)\n",
    "        #print(\"P=\", P)\n",
    "        \n",
    "        rho=(f(x)-f(x+P))/(m(x, np.zeros(2))-m(x, P))\n",
    "        #print(\"rho=\", rho)\n",
    "        #print(P)\n",
    "        if rho<1/4:\n",
    "            delta=np.linalg.norm(P)/4\n",
    "        else:\n",
    "            if rho>3/4 and np.linalg.norm(P)==delta: delta=min(2*delta, Delta_max)\n",
    "            else: delta=delta\n",
    "        \n",
    "        if rho>eta: x+=P\n",
    "        else:x=x\n",
    "        k+=1\n",
    "    return x    \n",
    "        \n",
    "DI(np.array([1.2, 1.2]), 2)"
   ]
  },
  {
   "cell_type": "markdown",
   "metadata": {},
   "source": [
    "#### Algorithm 4.4: Exact Trust Region Algorithm"
   ]
  },
  {
   "cell_type": "code",
   "execution_count": 19,
   "metadata": {},
   "outputs": [],
   "source": [
    "def ETR(Delta, B, G):\n",
    "    Lambda=0\n",
    "    epsilon=10**(-6)\n",
    "    P=np.linalg.inv(B).dot(G)\n",
    "    while abs(np.linalg.norm(P)-Delta)>epsilon and Lambda>=0:\n",
    "        P1=-np.linalg.inv(B+Lambda*np.eye(len(P))).dot(P)\n",
    "        Phi=np.linalg.norm(P)-Delta\n",
    "        Phi1=((P.T).dot(P1))/np.linalg.norm(P)\n",
    "        Lambda-=(Phi*np.linalg.norm(P))/(Phi1*Delta)\n",
    "        P=-np.linalg.inv(B+Lambda*np.eye(len(G))).dot(G)\n",
    "    if Lambda<0: P=-np.linalg.inv(B).dot(G)"
   ]
  },
  {
   "cell_type": "code",
   "execution_count": null,
   "metadata": {},
   "outputs": [],
   "source": []
  }
 ],
 "metadata": {
  "kernelspec": {
   "display_name": "Python 3",
   "language": "python",
   "name": "python3"
  },
  "language_info": {
   "codemirror_mode": {
    "name": "ipython",
    "version": 3
   },
   "file_extension": ".py",
   "mimetype": "text/x-python",
   "name": "python",
   "nbconvert_exporter": "python",
   "pygments_lexer": "ipython3",
   "version": "3.6.5"
  }
 },
 "nbformat": 4,
 "nbformat_minor": 2
}
