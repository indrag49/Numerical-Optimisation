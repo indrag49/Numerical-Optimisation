{
 "cells": [
  {
   "cell_type": "code",
   "execution_count": 1,
   "metadata": {},
   "outputs": [],
   "source": [
    "import numpy as np\n",
    "import random\n",
    "import pylab"
   ]
  },
  {
   "cell_type": "markdown",
   "metadata": {},
   "source": [
    "#### Algorithm 5.1: Conjugate Gradient Preliminary Version"
   ]
  },
  {
   "cell_type": "code",
   "execution_count": 42,
   "metadata": {},
   "outputs": [
    {
     "data": {
      "text/plain": [
       "(37506,\n",
       " array([-2.73110345e-07, -3.37604433e-08,  3.98606062e-07, -3.38768587e-07,\n",
       "        -1.15251169e-07,  3.00351530e-07,  1.14785507e-07,  3.78349796e-08,\n",
       "         1.30268745e-07,  1.76136382e-07,  1.53318979e-07,  1.46683306e-07,\n",
       "         1.77184120e-07,  1.83819793e-07,  1.06752850e-07, -4.01632860e-08,\n",
       "        -1.67638063e-07, -1.79163180e-07, -8.71950760e-08, -1.37835741e-07]))"
      ]
     },
     "execution_count": 42,
     "metadata": {},
     "output_type": "execute_result"
    }
   ],
   "source": [
    "## enter the dimensions\n",
    "n=20\n",
    "b=np.ones(n)\n",
    "x=np.zeros(n)\n",
    "\n",
    "A=np.zeros([n, n])\n",
    "for i in range(1, n+1):\n",
    "    for j in range(1, n+1): A[i-1, j-1]=1/(i+j-1)\n",
    "\n",
    "def CGP(x, b, A):\n",
    "    k=0\n",
    "    r=A.dot(x)-b\n",
    "    p=-r\n",
    "    \n",
    "    while np.linalg.norm(r)>10**(-6):\n",
    "        l=(r.T).dot(p)\n",
    "        m=A.dot(p)\n",
    "        o=(p.T).dot(m)\n",
    "        alpha=-l/o\n",
    "        \n",
    "        x+=alpha*p\n",
    "        r=A.dot(x)-b\n",
    "        \n",
    "        L=(r.T).dot(m)\n",
    "        M=(p.T).dot(m)\n",
    "        beta=L/M\n",
    "        \n",
    "        p=-r+beta*p\n",
    "        k+=1\n",
    "        \n",
    "        #print('iteration=', k)\n",
    "        #print('residual=', r)\n",
    "    \n",
    "    return (k, r)\n",
    "        \n",
    "\n",
    "CGP(x, b, A)\n"
   ]
  },
  {
   "cell_type": "markdown",
   "metadata": {},
   "source": [
    "#### Algorithm 5.2: Conjugate Gradient"
   ]
  },
  {
   "cell_type": "code",
   "execution_count": 81,
   "metadata": {},
   "outputs": [
    {
     "data": {
      "image/png": "[encoded data removed]",
      "text/plain": [
       "<Figure size 432x288 with 1 Axes>"
      ]
     },
     "metadata": {},
     "output_type": "display_data"
    }
   ],
   "source": [
    "n=20\n",
    "b=np.ones(n)\n",
    "x=np.zeros(n)\n",
    "\n",
    "A=np.zeros([n, n])\n",
    "for i in range(1, n+1):\n",
    "    for j in range(1, n+1): A[i-1, j-1]=1/(i+j-1)\n",
    "\n",
    "def CG(x, b, A):\n",
    "    k=0\n",
    "    X=[k]\n",
    "    r=A.dot(x)-b\n",
    "    Y=[np.linalg.norm(r)]\n",
    "    p=-r\n",
    "    \n",
    "    while np.linalg.norm(r)>10**(-6):\n",
    "        l=(r.T).dot(r)\n",
    "        m=A.dot(p)\n",
    "        o=(p.T).dot(m)\n",
    "        alpha=l/o\n",
    "        \n",
    "        x+=alpha*p\n",
    "        r+=alpha*m\n",
    "        \n",
    "        L=(r.T).dot(r)\n",
    "        beta=L/l\n",
    "        \n",
    "        p=-r+beta*p\n",
    "        k+=1\n",
    "        \n",
    "        X+=[k, ]\n",
    "        Y+=[np.linalg.norm(r), ]\n",
    "        \n",
    "        #print('iteration=', k)\n",
    "        #print('residual=', r)\n",
    "    \n",
    "    #return (k, r)\n",
    "    pylab.xlabel('iterations')\n",
    "    pylab.ylabel('residual norm')\n",
    "    pylab.plot(X, Y, 'r-')\n",
    "    pylab.show()\n",
    "\n",
    "CG(x, b, A)"
   ]
  },
  {
   "cell_type": "markdown",
   "metadata": {},
   "source": [
    "#### Algorithm 5.3: Preconditioned Conjugate Gradient"
   ]
  },
  {
   "cell_type": "code",
   "execution_count": 2,
   "metadata": {},
   "outputs": [
    {
     "data": {
      "image/png": "[encoded data removed]",
      "text/plain": [
       "<Figure size 432x288 with 1 Axes>"
      ]
     },
     "metadata": {},
     "output_type": "display_data"
    }
   ],
   "source": [
    "n=20\n",
    "b=np.ones(n)\n",
    "x=np.zeros(n)\n",
    "\n",
    "A=np.zeros([n, n])\n",
    "for i in range(1, n+1):\n",
    "    for j in range(1, n+1): A[i-1, j-1]=1/(i+j-1)\n",
    "\n",
    "\n",
    "def PCG(x, b, A):\n",
    "    M=np.diag(1/np.diag(A))\n",
    "    \n",
    "    r=A.dot(x)-b\n",
    "    y=np.linalg.inv(M).dot(r)\n",
    "    p=-r\n",
    "    k=0\n",
    "    X=[k]\n",
    "    Y=[np.linalg.norm(r)]\n",
    "    \n",
    "    while np.linalg.norm(r)>10**(-6):\n",
    "        l=(r.T).dot(y)\n",
    "        #print(\"l1=\", l)\n",
    "        m=A.dot(p)\n",
    "        o=(p.T).dot(m)\n",
    "        alpha=l/o\n",
    "        #print(alpha)\n",
    "        \n",
    "        x+=alpha*p\n",
    "        r+=alpha*m\n",
    "        y=np.linalg.inv(M).dot(r)\n",
    "        \n",
    "        L=(r.T).dot(y)\n",
    "        #print(\"l2=\", l)\n",
    "        beta=L/l\n",
    "        p=-y+beta*p\n",
    "        k+=1\n",
    "        \n",
    "        X+=[k, ]\n",
    "        Y+=[np.linalg.norm(r), ]\n",
    "        #print('iteration=', k)\n",
    "        #print('residual=', r)\n",
    "    \n",
    "    pylab.plot(X, Y, 'g-')\n",
    "    pylab.xlabel('iterations')\n",
    "    pylab.ylabel('residual norm')\n",
    "    pylab.show()\n",
    "    #return (k, r)\n",
    "\n",
    "PCG(x, b, A)\n",
    "        \n",
    "    \n",
    "\n"
   ]
  },
  {
   "cell_type": "markdown",
   "metadata": {},
   "source": [
    "#### Algorithm 5.4: Fletcher-Reeves Conjugate Gradient"
   ]
  },
  {
   "cell_type": "code",
   "execution_count": 47,
   "metadata": {},
   "outputs": [],
   "source": [
    "def FR_CG(x):\n",
    "    F=f(x)\n",
    "    G=g(x)\n",
    "    p=-G\n",
    "    k=0\n",
    "    \n",
    "    while np.linalg.norm(G)>10**-6:\n",
    "        alpha=LSA(1, x) # Line search\n",
    "        l=(G.T).dot(G)\n",
    "        x+=alpha*p\n",
    "        G=g(x)\n",
    "        F=f(x)\n",
    "        L=(G.T).dot(G)\n",
    "        beta=0 if (k+1)%(np.size(x))==0 else L/l\n",
    "        p=-G+beta*p\n",
    "        k+=1\n",
    "        print(k, x)\n"
   ]
  },
  {
   "cell_type": "code",
   "execution_count": 28,
   "metadata": {},
   "outputs": [],
   "source": [
    "def PR_CG(x):\n",
    "    F=f(x)\n",
    "    G=g(x)\n",
    "    p=-G\n",
    "    k=0\n",
    "    \n",
    "    while np.linalg.norm(G)>10**-6:\n",
    "        alpha=LSA(0.5, x) # Line search\n",
    "        l=(G.T).dot(G)\n",
    "        x+=alpha*p\n",
    "        G1=g(x)\n",
    "        L=(G1.T).dot(G1-G)\n",
    "        beta=0 if (k+1)%(np.size(x))==0 else L/l\n",
    "        G=G1\n",
    "        p=-G+beta*p\n",
    "        k+=1"
   ]
  }
 ],
 "metadata": {
  "kernelspec": {
   "display_name": "Python 3",
   "language": "python",
   "name": "python3"
  },
  "language_info": {
   "codemirror_mode": {
    "name": "ipython",
    "version": 3
   },
   "file_extension": ".py",
   "mimetype": "text/x-python",
   "name": "python",
   "nbconvert_exporter": "python",
   "pygments_lexer": "ipython3",
   "version": "3.6.5"
  }
 },
 "nbformat": 4,
 "nbformat_minor": 2
}
